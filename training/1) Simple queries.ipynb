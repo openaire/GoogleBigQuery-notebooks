{
  "nbformat": 4,
  "nbformat_minor": 0,
  "metadata": {
    "colab": {
      "cell_execution_strategy": "setup",
      "provenance": [],
      "name": "1) Simple queries"
    },
    "kernelspec": {
      "name": "python3",
      "display_name": "Python 3"
    },
    "language_info": {
      "name": "python"
    },
    "widgets": {
      "application/vnd.jupyter.widget-state+json": {
        "016948f7b6254909aa5db858e37e6384": {
          "model_module": "@jupyter-widgets/controls",
          "model_name": "HBoxModel",
          "model_module_version": "1.5.0",
          "state": {
            "_dom_classes": [],
            "_model_module": "@jupyter-widgets/controls",
            "_model_module_version": "1.5.0",
            "_model_name": "HBoxModel",
            "_view_count": null,
            "_view_module": "@jupyter-widgets/controls",
            "_view_module_version": "1.5.0",
            "_view_name": "HBoxView",
            "box_style": "",
            "children": [
              "IPY_MODEL_5d45a98596134f2e99c353bef6b901dc",
              "IPY_MODEL_0249ee41463c491fbf564fc960aa744c",
              "IPY_MODEL_cf56ba6763b84c829672169de23e3099"
            ],
            "layout": "IPY_MODEL_23e57844786248f5b267a13e8246e933"
          }
        },
        "5d45a98596134f2e99c353bef6b901dc": {
          "model_module": "@jupyter-widgets/controls",
          "model_name": "HTMLModel",
          "model_module_version": "1.5.0",
          "state": {
            "_dom_classes": [],
            "_model_module": "@jupyter-widgets/controls",
            "_model_module_version": "1.5.0",
            "_model_name": "HTMLModel",
            "_view_count": null,
            "_view_module": "@jupyter-widgets/controls",
            "_view_module_version": "1.5.0",
            "_view_name": "HTMLView",
            "description": "",
            "description_tooltip": null,
            "layout": "IPY_MODEL_5abe5fba0d5b49189462309191818d11",
            "placeholder": "​",
            "style": "IPY_MODEL_940d4e80b10341eeb8aa41016f92a4ba",
            "value": "Job ID 989cc52c-13f5-4212-8163-fb537fbdff52 successfully executed: 100%"
          }
        },
        "0249ee41463c491fbf564fc960aa744c": {
          "model_module": "@jupyter-widgets/controls",
          "model_name": "FloatProgressModel",
          "model_module_version": "1.5.0",
          "state": {
            "_dom_classes": [],
            "_model_module": "@jupyter-widgets/controls",
            "_model_module_version": "1.5.0",
            "_model_name": "FloatProgressModel",
            "_view_count": null,
            "_view_module": "@jupyter-widgets/controls",
            "_view_module_version": "1.5.0",
            "_view_name": "ProgressView",
            "bar_style": "success",
            "description": "",
            "description_tooltip": null,
            "layout": "IPY_MODEL_2c34956a61f7446a9ab28ca6d984c740",
            "max": 1,
            "min": 0,
            "orientation": "horizontal",
            "style": "IPY_MODEL_127f6d5b89064572b330b52500efa7a2",
            "value": 1
          }
        },
        "cf56ba6763b84c829672169de23e3099": {
          "model_module": "@jupyter-widgets/controls",
          "model_name": "HTMLModel",
          "model_module_version": "1.5.0",
          "state": {
            "_dom_classes": [],
            "_model_module": "@jupyter-widgets/controls",
            "_model_module_version": "1.5.0",
            "_model_name": "HTMLModel",
            "_view_count": null,
            "_view_module": "@jupyter-widgets/controls",
            "_view_module_version": "1.5.0",
            "_view_name": "HTMLView",
            "description": "",
            "description_tooltip": null,
            "layout": "IPY_MODEL_8a82daeeb8c94ebd8feb53a0e2ac53c6",
            "placeholder": "​",
            "style": "IPY_MODEL_fa2d3ff950c74ea0ac43e1301ba419d8",
            "value": ""
          }
        },
        "23e57844786248f5b267a13e8246e933": {
          "model_module": "@jupyter-widgets/base",
          "model_name": "LayoutModel",
          "model_module_version": "1.2.0",
          "state": {
            "_model_module": "@jupyter-widgets/base",
            "_model_module_version": "1.2.0",
            "_model_name": "LayoutModel",
            "_view_count": null,
            "_view_module": "@jupyter-widgets/base",
            "_view_module_version": "1.2.0",
            "_view_name": "LayoutView",
            "align_content": null,
            "align_items": null,
            "align_self": null,
            "border": null,
            "bottom": null,
            "display": null,
            "flex": null,
            "flex_flow": null,
            "grid_area": null,
            "grid_auto_columns": null,
            "grid_auto_flow": null,
            "grid_auto_rows": null,
            "grid_column": null,
            "grid_gap": null,
            "grid_row": null,
            "grid_template_areas": null,
            "grid_template_columns": null,
            "grid_template_rows": null,
            "height": null,
            "justify_content": null,
            "justify_items": null,
            "left": null,
            "margin": null,
            "max_height": null,
            "max_width": null,
            "min_height": null,
            "min_width": null,
            "object_fit": null,
            "object_position": null,
            "order": null,
            "overflow": null,
            "overflow_x": null,
            "overflow_y": null,
            "padding": null,
            "right": null,
            "top": null,
            "visibility": null,
            "width": null
          }
        },
        "5abe5fba0d5b49189462309191818d11": {
          "model_module": "@jupyter-widgets/base",
          "model_name": "LayoutModel",
          "model_module_version": "1.2.0",
          "state": {
            "_model_module": "@jupyter-widgets/base",
            "_model_module_version": "1.2.0",
            "_model_name": "LayoutModel",
            "_view_count": null,
            "_view_module": "@jupyter-widgets/base",
            "_view_module_version": "1.2.0",
            "_view_name": "LayoutView",
            "align_content": null,
            "align_items": null,
            "align_self": null,
            "border": null,
            "bottom": null,
            "display": null,
            "flex": null,
            "flex_flow": null,
            "grid_area": null,
            "grid_auto_columns": null,
            "grid_auto_flow": null,
            "grid_auto_rows": null,
            "grid_column": null,
            "grid_gap": null,
            "grid_row": null,
            "grid_template_areas": null,
            "grid_template_columns": null,
            "grid_template_rows": null,
            "height": null,
            "justify_content": null,
            "justify_items": null,
            "left": null,
            "margin": null,
            "max_height": null,
            "max_width": null,
            "min_height": null,
            "min_width": null,
            "object_fit": null,
            "object_position": null,
            "order": null,
            "overflow": null,
            "overflow_x": null,
            "overflow_y": null,
            "padding": null,
            "right": null,
            "top": null,
            "visibility": null,
            "width": null
          }
        },
        "940d4e80b10341eeb8aa41016f92a4ba": {
          "model_module": "@jupyter-widgets/controls",
          "model_name": "DescriptionStyleModel",
          "model_module_version": "1.5.0",
          "state": {
            "_model_module": "@jupyter-widgets/controls",
            "_model_module_version": "1.5.0",
            "_model_name": "DescriptionStyleModel",
            "_view_count": null,
            "_view_module": "@jupyter-widgets/base",
            "_view_module_version": "1.2.0",
            "_view_name": "StyleView",
            "description_width": ""
          }
        },
        "2c34956a61f7446a9ab28ca6d984c740": {
          "model_module": "@jupyter-widgets/base",
          "model_name": "LayoutModel",
          "model_module_version": "1.2.0",
          "state": {
            "_model_module": "@jupyter-widgets/base",
            "_model_module_version": "1.2.0",
            "_model_name": "LayoutModel",
            "_view_count": null,
            "_view_module": "@jupyter-widgets/base",
            "_view_module_version": "1.2.0",
            "_view_name": "LayoutView",
            "align_content": null,
            "align_items": null,
            "align_self": null,
            "border": null,
            "bottom": null,
            "display": null,
            "flex": null,
            "flex_flow": null,
            "grid_area": null,
            "grid_auto_columns": null,
            "grid_auto_flow": null,
            "grid_auto_rows": null,
            "grid_column": null,
            "grid_gap": null,
            "grid_row": null,
            "grid_template_areas": null,
            "grid_template_columns": null,
            "grid_template_rows": null,
            "height": null,
            "justify_content": null,
            "justify_items": null,
            "left": null,
            "margin": null,
            "max_height": null,
            "max_width": null,
            "min_height": null,
            "min_width": null,
            "object_fit": null,
            "object_position": null,
            "order": null,
            "overflow": null,
            "overflow_x": null,
            "overflow_y": null,
            "padding": null,
            "right": null,
            "top": null,
            "visibility": null,
            "width": null
          }
        },
        "127f6d5b89064572b330b52500efa7a2": {
          "model_module": "@jupyter-widgets/controls",
          "model_name": "ProgressStyleModel",
          "model_module_version": "1.5.0",
          "state": {
            "_model_module": "@jupyter-widgets/controls",
            "_model_module_version": "1.5.0",
            "_model_name": "ProgressStyleModel",
            "_view_count": null,
            "_view_module": "@jupyter-widgets/base",
            "_view_module_version": "1.2.0",
            "_view_name": "StyleView",
            "bar_color": null,
            "description_width": ""
          }
        },
        "8a82daeeb8c94ebd8feb53a0e2ac53c6": {
          "model_module": "@jupyter-widgets/base",
          "model_name": "LayoutModel",
          "model_module_version": "1.2.0",
          "state": {
            "_model_module": "@jupyter-widgets/base",
            "_model_module_version": "1.2.0",
            "_model_name": "LayoutModel",
            "_view_count": null,
            "_view_module": "@jupyter-widgets/base",
            "_view_module_version": "1.2.0",
            "_view_name": "LayoutView",
            "align_content": null,
            "align_items": null,
            "align_self": null,
            "border": null,
            "bottom": null,
            "display": null,
            "flex": null,
            "flex_flow": null,
            "grid_area": null,
            "grid_auto_columns": null,
            "grid_auto_flow": null,
            "grid_auto_rows": null,
            "grid_column": null,
            "grid_gap": null,
            "grid_row": null,
            "grid_template_areas": null,
            "grid_template_columns": null,
            "grid_template_rows": null,
            "height": null,
            "justify_content": null,
            "justify_items": null,
            "left": null,
            "margin": null,
            "max_height": null,
            "max_width": null,
            "min_height": null,
            "min_width": null,
            "object_fit": null,
            "object_position": null,
            "order": null,
            "overflow": null,
            "overflow_x": null,
            "overflow_y": null,
            "padding": null,
            "right": null,
            "top": null,
            "visibility": null,
            "width": null
          }
        },
        "fa2d3ff950c74ea0ac43e1301ba419d8": {
          "model_module": "@jupyter-widgets/controls",
          "model_name": "DescriptionStyleModel",
          "model_module_version": "1.5.0",
          "state": {
            "_model_module": "@jupyter-widgets/controls",
            "_model_module_version": "1.5.0",
            "_model_name": "DescriptionStyleModel",
            "_view_count": null,
            "_view_module": "@jupyter-widgets/base",
            "_view_module_version": "1.2.0",
            "_view_name": "StyleView",
            "description_width": ""
          }
        },
        "1e4a093d1cec4e61b69999a45c5ec9db": {
          "model_module": "@jupyter-widgets/controls",
          "model_name": "HBoxModel",
          "model_module_version": "1.5.0",
          "state": {
            "_dom_classes": [],
            "_model_module": "@jupyter-widgets/controls",
            "_model_module_version": "1.5.0",
            "_model_name": "HBoxModel",
            "_view_count": null,
            "_view_module": "@jupyter-widgets/controls",
            "_view_module_version": "1.5.0",
            "_view_name": "HBoxView",
            "box_style": "",
            "children": [
              "IPY_MODEL_a2a7bbd6290646b4a2e590a274fd0903",
              "IPY_MODEL_7660ed0892954e30b4ad4e1b174083fc",
              "IPY_MODEL_ee21f17bc6824e9dba26ff8788b8ce15"
            ],
            "layout": "IPY_MODEL_5ad617887a344dfcb22ea1f1c09bed42"
          }
        },
        "a2a7bbd6290646b4a2e590a274fd0903": {
          "model_module": "@jupyter-widgets/controls",
          "model_name": "HTMLModel",
          "model_module_version": "1.5.0",
          "state": {
            "_dom_classes": [],
            "_model_module": "@jupyter-widgets/controls",
            "_model_module_version": "1.5.0",
            "_model_name": "HTMLModel",
            "_view_count": null,
            "_view_module": "@jupyter-widgets/controls",
            "_view_module_version": "1.5.0",
            "_view_name": "HTMLView",
            "description": "",
            "description_tooltip": null,
            "layout": "IPY_MODEL_b3def7bdbfd44b6a9f4c537e04d1c40f",
            "placeholder": "​",
            "style": "IPY_MODEL_f66d90c745fc4bf7892173d1220a9664",
            "value": "Downloading: 100%"
          }
        },
        "7660ed0892954e30b4ad4e1b174083fc": {
          "model_module": "@jupyter-widgets/controls",
          "model_name": "FloatProgressModel",
          "model_module_version": "1.5.0",
          "state": {
            "_dom_classes": [],
            "_model_module": "@jupyter-widgets/controls",
            "_model_module_version": "1.5.0",
            "_model_name": "FloatProgressModel",
            "_view_count": null,
            "_view_module": "@jupyter-widgets/controls",
            "_view_module_version": "1.5.0",
            "_view_name": "ProgressView",
            "bar_style": "success",
            "description": "",
            "description_tooltip": null,
            "layout": "IPY_MODEL_8683884a646b4ce1aa58f65cab80950f",
            "max": 25,
            "min": 0,
            "orientation": "horizontal",
            "style": "IPY_MODEL_a42765c7580a492d93bf99b6ad8793b4",
            "value": 25
          }
        },
        "ee21f17bc6824e9dba26ff8788b8ce15": {
          "model_module": "@jupyter-widgets/controls",
          "model_name": "HTMLModel",
          "model_module_version": "1.5.0",
          "state": {
            "_dom_classes": [],
            "_model_module": "@jupyter-widgets/controls",
            "_model_module_version": "1.5.0",
            "_model_name": "HTMLModel",
            "_view_count": null,
            "_view_module": "@jupyter-widgets/controls",
            "_view_module_version": "1.5.0",
            "_view_name": "HTMLView",
            "description": "",
            "description_tooltip": null,
            "layout": "IPY_MODEL_9043cf5172f5472599ecaa7c2d453620",
            "placeholder": "​",
            "style": "IPY_MODEL_8896813ed45e4a8da3db737c6c8ce5f9",
            "value": ""
          }
        },
        "5ad617887a344dfcb22ea1f1c09bed42": {
          "model_module": "@jupyter-widgets/base",
          "model_name": "LayoutModel",
          "model_module_version": "1.2.0",
          "state": {
            "_model_module": "@jupyter-widgets/base",
            "_model_module_version": "1.2.0",
            "_model_name": "LayoutModel",
            "_view_count": null,
            "_view_module": "@jupyter-widgets/base",
            "_view_module_version": "1.2.0",
            "_view_name": "LayoutView",
            "align_content": null,
            "align_items": null,
            "align_self": null,
            "border": null,
            "bottom": null,
            "display": null,
            "flex": null,
            "flex_flow": null,
            "grid_area": null,
            "grid_auto_columns": null,
            "grid_auto_flow": null,
            "grid_auto_rows": null,
            "grid_column": null,
            "grid_gap": null,
            "grid_row": null,
            "grid_template_areas": null,
            "grid_template_columns": null,
            "grid_template_rows": null,
            "height": null,
            "justify_content": null,
            "justify_items": null,
            "left": null,
            "margin": null,
            "max_height": null,
            "max_width": null,
            "min_height": null,
            "min_width": null,
            "object_fit": null,
            "object_position": null,
            "order": null,
            "overflow": null,
            "overflow_x": null,
            "overflow_y": null,
            "padding": null,
            "right": null,
            "top": null,
            "visibility": null,
            "width": null
          }
        },
        "b3def7bdbfd44b6a9f4c537e04d1c40f": {
          "model_module": "@jupyter-widgets/base",
          "model_name": "LayoutModel",
          "model_module_version": "1.2.0",
          "state": {
            "_model_module": "@jupyter-widgets/base",
            "_model_module_version": "1.2.0",
            "_model_name": "LayoutModel",
            "_view_count": null,
            "_view_module": "@jupyter-widgets/base",
            "_view_module_version": "1.2.0",
            "_view_name": "LayoutView",
            "align_content": null,
            "align_items": null,
            "align_self": null,
            "border": null,
            "bottom": null,
            "display": null,
            "flex": null,
            "flex_flow": null,
            "grid_area": null,
            "grid_auto_columns": null,
            "grid_auto_flow": null,
            "grid_auto_rows": null,
            "grid_column": null,
            "grid_gap": null,
            "grid_row": null,
            "grid_template_areas": null,
            "grid_template_columns": null,
            "grid_template_rows": null,
            "height": null,
            "justify_content": null,
            "justify_items": null,
            "left": null,
            "margin": null,
            "max_height": null,
            "max_width": null,
            "min_height": null,
            "min_width": null,
            "object_fit": null,
            "object_position": null,
            "order": null,
            "overflow": null,
            "overflow_x": null,
            "overflow_y": null,
            "padding": null,
            "right": null,
            "top": null,
            "visibility": null,
            "width": null
          }
        },
        "f66d90c745fc4bf7892173d1220a9664": {
          "model_module": "@jupyter-widgets/controls",
          "model_name": "DescriptionStyleModel",
          "model_module_version": "1.5.0",
          "state": {
            "_model_module": "@jupyter-widgets/controls",
            "_model_module_version": "1.5.0",
            "_model_name": "DescriptionStyleModel",
            "_view_count": null,
            "_view_module": "@jupyter-widgets/base",
            "_view_module_version": "1.2.0",
            "_view_name": "StyleView",
            "description_width": ""
          }
        },
        "8683884a646b4ce1aa58f65cab80950f": {
          "model_module": "@jupyter-widgets/base",
          "model_name": "LayoutModel",
          "model_module_version": "1.2.0",
          "state": {
            "_model_module": "@jupyter-widgets/base",
            "_model_module_version": "1.2.0",
            "_model_name": "LayoutModel",
            "_view_count": null,
            "_view_module": "@jupyter-widgets/base",
            "_view_module_version": "1.2.0",
            "_view_name": "LayoutView",
            "align_content": null,
            "align_items": null,
            "align_self": null,
            "border": null,
            "bottom": null,
            "display": null,
            "flex": null,
            "flex_flow": null,
            "grid_area": null,
            "grid_auto_columns": null,
            "grid_auto_flow": null,
            "grid_auto_rows": null,
            "grid_column": null,
            "grid_gap": null,
            "grid_row": null,
            "grid_template_areas": null,
            "grid_template_columns": null,
            "grid_template_rows": null,
            "height": null,
            "justify_content": null,
            "justify_items": null,
            "left": null,
            "margin": null,
            "max_height": null,
            "max_width": null,
            "min_height": null,
            "min_width": null,
            "object_fit": null,
            "object_position": null,
            "order": null,
            "overflow": null,
            "overflow_x": null,
            "overflow_y": null,
            "padding": null,
            "right": null,
            "top": null,
            "visibility": null,
            "width": null
          }
        },
        "a42765c7580a492d93bf99b6ad8793b4": {
          "model_module": "@jupyter-widgets/controls",
          "model_name": "ProgressStyleModel",
          "model_module_version": "1.5.0",
          "state": {
            "_model_module": "@jupyter-widgets/controls",
            "_model_module_version": "1.5.0",
            "_model_name": "ProgressStyleModel",
            "_view_count": null,
            "_view_module": "@jupyter-widgets/base",
            "_view_module_version": "1.2.0",
            "_view_name": "StyleView",
            "bar_color": null,
            "description_width": ""
          }
        },
        "9043cf5172f5472599ecaa7c2d453620": {
          "model_module": "@jupyter-widgets/base",
          "model_name": "LayoutModel",
          "model_module_version": "1.2.0",
          "state": {
            "_model_module": "@jupyter-widgets/base",
            "_model_module_version": "1.2.0",
            "_model_name": "LayoutModel",
            "_view_count": null,
            "_view_module": "@jupyter-widgets/base",
            "_view_module_version": "1.2.0",
            "_view_name": "LayoutView",
            "align_content": null,
            "align_items": null,
            "align_self": null,
            "border": null,
            "bottom": null,
            "display": null,
            "flex": null,
            "flex_flow": null,
            "grid_area": null,
            "grid_auto_columns": null,
            "grid_auto_flow": null,
            "grid_auto_rows": null,
            "grid_column": null,
            "grid_gap": null,
            "grid_row": null,
            "grid_template_areas": null,
            "grid_template_columns": null,
            "grid_template_rows": null,
            "height": null,
            "justify_content": null,
            "justify_items": null,
            "left": null,
            "margin": null,
            "max_height": null,
            "max_width": null,
            "min_height": null,
            "min_width": null,
            "object_fit": null,
            "object_position": null,
            "order": null,
            "overflow": null,
            "overflow_x": null,
            "overflow_y": null,
            "padding": null,
            "right": null,
            "top": null,
            "visibility": null,
            "width": null
          }
        },
        "8896813ed45e4a8da3db737c6c8ce5f9": {
          "model_module": "@jupyter-widgets/controls",
          "model_name": "DescriptionStyleModel",
          "model_module_version": "1.5.0",
          "state": {
            "_model_module": "@jupyter-widgets/controls",
            "_model_module_version": "1.5.0",
            "_model_name": "DescriptionStyleModel",
            "_view_count": null,
            "_view_module": "@jupyter-widgets/base",
            "_view_module_version": "1.2.0",
            "_view_name": "StyleView",
            "description_width": ""
          }
        },
        "04c98d0759464a67bcd256059d95364b": {
          "model_module": "@jupyter-widgets/controls",
          "model_name": "HBoxModel",
          "model_module_version": "1.5.0",
          "state": {
            "_dom_classes": [],
            "_model_module": "@jupyter-widgets/controls",
            "_model_module_version": "1.5.0",
            "_model_name": "HBoxModel",
            "_view_count": null,
            "_view_module": "@jupyter-widgets/controls",
            "_view_module_version": "1.5.0",
            "_view_name": "HBoxView",
            "box_style": "",
            "children": [
              "IPY_MODEL_8f35723470dd46d99bc9eb2fbfcfa471",
              "IPY_MODEL_628074b882554d6c8439547dcdeeee56",
              "IPY_MODEL_27f4220b142447adb8775cf8335f4618"
            ],
            "layout": "IPY_MODEL_15ab199edd41437fab12bd620e4eb028"
          }
        },
        "8f35723470dd46d99bc9eb2fbfcfa471": {
          "model_module": "@jupyter-widgets/controls",
          "model_name": "HTMLModel",
          "model_module_version": "1.5.0",
          "state": {
            "_dom_classes": [],
            "_model_module": "@jupyter-widgets/controls",
            "_model_module_version": "1.5.0",
            "_model_name": "HTMLModel",
            "_view_count": null,
            "_view_module": "@jupyter-widgets/controls",
            "_view_module_version": "1.5.0",
            "_view_name": "HTMLView",
            "description": "",
            "description_tooltip": null,
            "layout": "IPY_MODEL_7c943347b7f74e258ee5ba3a4f4b7805",
            "placeholder": "​",
            "style": "IPY_MODEL_b9f77fb72cd14530ac01d88f75de1274",
            "value": "Job ID a6642b6f-13b4-4c86-a758-deb7b435629f successfully executed: 100%"
          }
        },
        "628074b882554d6c8439547dcdeeee56": {
          "model_module": "@jupyter-widgets/controls",
          "model_name": "FloatProgressModel",
          "model_module_version": "1.5.0",
          "state": {
            "_dom_classes": [],
            "_model_module": "@jupyter-widgets/controls",
            "_model_module_version": "1.5.0",
            "_model_name": "FloatProgressModel",
            "_view_count": null,
            "_view_module": "@jupyter-widgets/controls",
            "_view_module_version": "1.5.0",
            "_view_name": "ProgressView",
            "bar_style": "success",
            "description": "",
            "description_tooltip": null,
            "layout": "IPY_MODEL_58a8f171e2894e0a850ddd85927b5b83",
            "max": 1,
            "min": 0,
            "orientation": "horizontal",
            "style": "IPY_MODEL_c366c7435515476da46ad82bead7a410",
            "value": 1
          }
        },
        "27f4220b142447adb8775cf8335f4618": {
          "model_module": "@jupyter-widgets/controls",
          "model_name": "HTMLModel",
          "model_module_version": "1.5.0",
          "state": {
            "_dom_classes": [],
            "_model_module": "@jupyter-widgets/controls",
            "_model_module_version": "1.5.0",
            "_model_name": "HTMLModel",
            "_view_count": null,
            "_view_module": "@jupyter-widgets/controls",
            "_view_module_version": "1.5.0",
            "_view_name": "HTMLView",
            "description": "",
            "description_tooltip": null,
            "layout": "IPY_MODEL_4703092c40e545b994635f8b38e5f13c",
            "placeholder": "​",
            "style": "IPY_MODEL_f8dbdd144f6042dbbb33bdb66e25a680",
            "value": ""
          }
        },
        "15ab199edd41437fab12bd620e4eb028": {
          "model_module": "@jupyter-widgets/base",
          "model_name": "LayoutModel",
          "model_module_version": "1.2.0",
          "state": {
            "_model_module": "@jupyter-widgets/base",
            "_model_module_version": "1.2.0",
            "_model_name": "LayoutModel",
            "_view_count": null,
            "_view_module": "@jupyter-widgets/base",
            "_view_module_version": "1.2.0",
            "_view_name": "LayoutView",
            "align_content": null,
            "align_items": null,
            "align_self": null,
            "border": null,
            "bottom": null,
            "display": null,
            "flex": null,
            "flex_flow": null,
            "grid_area": null,
            "grid_auto_columns": null,
            "grid_auto_flow": null,
            "grid_auto_rows": null,
            "grid_column": null,
            "grid_gap": null,
            "grid_row": null,
            "grid_template_areas": null,
            "grid_template_columns": null,
            "grid_template_rows": null,
            "height": null,
            "justify_content": null,
            "justify_items": null,
            "left": null,
            "margin": null,
            "max_height": null,
            "max_width": null,
            "min_height": null,
            "min_width": null,
            "object_fit": null,
            "object_position": null,
            "order": null,
            "overflow": null,
            "overflow_x": null,
            "overflow_y": null,
            "padding": null,
            "right": null,
            "top": null,
            "visibility": null,
            "width": null
          }
        },
        "7c943347b7f74e258ee5ba3a4f4b7805": {
          "model_module": "@jupyter-widgets/base",
          "model_name": "LayoutModel",
          "model_module_version": "1.2.0",
          "state": {
            "_model_module": "@jupyter-widgets/base",
            "_model_module_version": "1.2.0",
            "_model_name": "LayoutModel",
            "_view_count": null,
            "_view_module": "@jupyter-widgets/base",
            "_view_module_version": "1.2.0",
            "_view_name": "LayoutView",
            "align_content": null,
            "align_items": null,
            "align_self": null,
            "border": null,
            "bottom": null,
            "display": null,
            "flex": null,
            "flex_flow": null,
            "grid_area": null,
            "grid_auto_columns": null,
            "grid_auto_flow": null,
            "grid_auto_rows": null,
            "grid_column": null,
            "grid_gap": null,
            "grid_row": null,
            "grid_template_areas": null,
            "grid_template_columns": null,
            "grid_template_rows": null,
            "height": null,
            "justify_content": null,
            "justify_items": null,
            "left": null,
            "margin": null,
            "max_height": null,
            "max_width": null,
            "min_height": null,
            "min_width": null,
            "object_fit": null,
            "object_position": null,
            "order": null,
            "overflow": null,
            "overflow_x": null,
            "overflow_y": null,
            "padding": null,
            "right": null,
            "top": null,
            "visibility": null,
            "width": null
          }
        },
        "b9f77fb72cd14530ac01d88f75de1274": {
          "model_module": "@jupyter-widgets/controls",
          "model_name": "DescriptionStyleModel",
          "model_module_version": "1.5.0",
          "state": {
            "_model_module": "@jupyter-widgets/controls",
            "_model_module_version": "1.5.0",
            "_model_name": "DescriptionStyleModel",
            "_view_count": null,
            "_view_module": "@jupyter-widgets/base",
            "_view_module_version": "1.2.0",
            "_view_name": "StyleView",
            "description_width": ""
          }
        },
        "58a8f171e2894e0a850ddd85927b5b83": {
          "model_module": "@jupyter-widgets/base",
          "model_name": "LayoutModel",
          "model_module_version": "1.2.0",
          "state": {
            "_model_module": "@jupyter-widgets/base",
            "_model_module_version": "1.2.0",
            "_model_name": "LayoutModel",
            "_view_count": null,
            "_view_module": "@jupyter-widgets/base",
            "_view_module_version": "1.2.0",
            "_view_name": "LayoutView",
            "align_content": null,
            "align_items": null,
            "align_self": null,
            "border": null,
            "bottom": null,
            "display": null,
            "flex": null,
            "flex_flow": null,
            "grid_area": null,
            "grid_auto_columns": null,
            "grid_auto_flow": null,
            "grid_auto_rows": null,
            "grid_column": null,
            "grid_gap": null,
            "grid_row": null,
            "grid_template_areas": null,
            "grid_template_columns": null,
            "grid_template_rows": null,
            "height": null,
            "justify_content": null,
            "justify_items": null,
            "left": null,
            "margin": null,
            "max_height": null,
            "max_width": null,
            "min_height": null,
            "min_width": null,
            "object_fit": null,
            "object_position": null,
            "order": null,
            "overflow": null,
            "overflow_x": null,
            "overflow_y": null,
            "padding": null,
            "right": null,
            "top": null,
            "visibility": null,
            "width": null
          }
        },
        "c366c7435515476da46ad82bead7a410": {
          "model_module": "@jupyter-widgets/controls",
          "model_name": "ProgressStyleModel",
          "model_module_version": "1.5.0",
          "state": {
            "_model_module": "@jupyter-widgets/controls",
            "_model_module_version": "1.5.0",
            "_model_name": "ProgressStyleModel",
            "_view_count": null,
            "_view_module": "@jupyter-widgets/base",
            "_view_module_version": "1.2.0",
            "_view_name": "StyleView",
            "bar_color": null,
            "description_width": ""
          }
        },
        "4703092c40e545b994635f8b38e5f13c": {
          "model_module": "@jupyter-widgets/base",
          "model_name": "LayoutModel",
          "model_module_version": "1.2.0",
          "state": {
            "_model_module": "@jupyter-widgets/base",
            "_model_module_version": "1.2.0",
            "_model_name": "LayoutModel",
            "_view_count": null,
            "_view_module": "@jupyter-widgets/base",
            "_view_module_version": "1.2.0",
            "_view_name": "LayoutView",
            "align_content": null,
            "align_items": null,
            "align_self": null,
            "border": null,
            "bottom": null,
            "display": null,
            "flex": null,
            "flex_flow": null,
            "grid_area": null,
            "grid_auto_columns": null,
            "grid_auto_flow": null,
            "grid_auto_rows": null,
            "grid_column": null,
            "grid_gap": null,
            "grid_row": null,
            "grid_template_areas": null,
            "grid_template_columns": null,
            "grid_template_rows": null,
            "height": null,
            "justify_content": null,
            "justify_items": null,
            "left": null,
            "margin": null,
            "max_height": null,
            "max_width": null,
            "min_height": null,
            "min_width": null,
            "object_fit": null,
            "object_position": null,
            "order": null,
            "overflow": null,
            "overflow_x": null,
            "overflow_y": null,
            "padding": null,
            "right": null,
            "top": null,
            "visibility": null,
            "width": null
          }
        },
        "f8dbdd144f6042dbbb33bdb66e25a680": {
          "model_module": "@jupyter-widgets/controls",
          "model_name": "DescriptionStyleModel",
          "model_module_version": "1.5.0",
          "state": {
            "_model_module": "@jupyter-widgets/controls",
            "_model_module_version": "1.5.0",
            "_model_name": "DescriptionStyleModel",
            "_view_count": null,
            "_view_module": "@jupyter-widgets/base",
            "_view_module_version": "1.2.0",
            "_view_name": "StyleView",
            "description_width": ""
          }
        },
        "3f4dad10c3ec464c91cf64a763acf03b": {
          "model_module": "@jupyter-widgets/controls",
          "model_name": "HBoxModel",
          "model_module_version": "1.5.0",
          "state": {
            "_dom_classes": [],
            "_model_module": "@jupyter-widgets/controls",
            "_model_module_version": "1.5.0",
            "_model_name": "HBoxModel",
            "_view_count": null,
            "_view_module": "@jupyter-widgets/controls",
            "_view_module_version": "1.5.0",
            "_view_name": "HBoxView",
            "box_style": "",
            "children": [
              "IPY_MODEL_e9a91d8923ca41a6b7fc76e081fe1d26",
              "IPY_MODEL_842f24febdcf42d5a4fdcd88fa49f338",
              "IPY_MODEL_9f554416ef654b8fba3c1af6e4291f4d"
            ],
            "layout": "IPY_MODEL_49994711a2624f9d9aab33a491c30620"
          }
        },
        "e9a91d8923ca41a6b7fc76e081fe1d26": {
          "model_module": "@jupyter-widgets/controls",
          "model_name": "HTMLModel",
          "model_module_version": "1.5.0",
          "state": {
            "_dom_classes": [],
            "_model_module": "@jupyter-widgets/controls",
            "_model_module_version": "1.5.0",
            "_model_name": "HTMLModel",
            "_view_count": null,
            "_view_module": "@jupyter-widgets/controls",
            "_view_module_version": "1.5.0",
            "_view_name": "HTMLView",
            "description": "",
            "description_tooltip": null,
            "layout": "IPY_MODEL_7b802ceb21c74fd4b989f97ddc37add4",
            "placeholder": "​",
            "style": "IPY_MODEL_4a75c80c13a34a1e8bf0ff8c5b69cdf8",
            "value": "Downloading: 100%"
          }
        },
        "842f24febdcf42d5a4fdcd88fa49f338": {
          "model_module": "@jupyter-widgets/controls",
          "model_name": "FloatProgressModel",
          "model_module_version": "1.5.0",
          "state": {
            "_dom_classes": [],
            "_model_module": "@jupyter-widgets/controls",
            "_model_module_version": "1.5.0",
            "_model_name": "FloatProgressModel",
            "_view_count": null,
            "_view_module": "@jupyter-widgets/controls",
            "_view_module_version": "1.5.0",
            "_view_name": "ProgressView",
            "bar_style": "success",
            "description": "",
            "description_tooltip": null,
            "layout": "IPY_MODEL_eb5a2c18d8534eb695f1544298c58c08",
            "max": 1,
            "min": 0,
            "orientation": "horizontal",
            "style": "IPY_MODEL_2b8b747192d74144850dd9ff90e120be",
            "value": 1
          }
        },
        "9f554416ef654b8fba3c1af6e4291f4d": {
          "model_module": "@jupyter-widgets/controls",
          "model_name": "HTMLModel",
          "model_module_version": "1.5.0",
          "state": {
            "_dom_classes": [],
            "_model_module": "@jupyter-widgets/controls",
            "_model_module_version": "1.5.0",
            "_model_name": "HTMLModel",
            "_view_count": null,
            "_view_module": "@jupyter-widgets/controls",
            "_view_module_version": "1.5.0",
            "_view_name": "HTMLView",
            "description": "",
            "description_tooltip": null,
            "layout": "IPY_MODEL_fbcda60cfd444a83b5011095f6fa3f55",
            "placeholder": "​",
            "style": "IPY_MODEL_6324abe825fe4159b84bb4f602688357",
            "value": ""
          }
        },
        "49994711a2624f9d9aab33a491c30620": {
          "model_module": "@jupyter-widgets/base",
          "model_name": "LayoutModel",
          "model_module_version": "1.2.0",
          "state": {
            "_model_module": "@jupyter-widgets/base",
            "_model_module_version": "1.2.0",
            "_model_name": "LayoutModel",
            "_view_count": null,
            "_view_module": "@jupyter-widgets/base",
            "_view_module_version": "1.2.0",
            "_view_name": "LayoutView",
            "align_content": null,
            "align_items": null,
            "align_self": null,
            "border": null,
            "bottom": null,
            "display": null,
            "flex": null,
            "flex_flow": null,
            "grid_area": null,
            "grid_auto_columns": null,
            "grid_auto_flow": null,
            "grid_auto_rows": null,
            "grid_column": null,
            "grid_gap": null,
            "grid_row": null,
            "grid_template_areas": null,
            "grid_template_columns": null,
            "grid_template_rows": null,
            "height": null,
            "justify_content": null,
            "justify_items": null,
            "left": null,
            "margin": null,
            "max_height": null,
            "max_width": null,
            "min_height": null,
            "min_width": null,
            "object_fit": null,
            "object_position": null,
            "order": null,
            "overflow": null,
            "overflow_x": null,
            "overflow_y": null,
            "padding": null,
            "right": null,
            "top": null,
            "visibility": null,
            "width": null
          }
        },
        "7b802ceb21c74fd4b989f97ddc37add4": {
          "model_module": "@jupyter-widgets/base",
          "model_name": "LayoutModel",
          "model_module_version": "1.2.0",
          "state": {
            "_model_module": "@jupyter-widgets/base",
            "_model_module_version": "1.2.0",
            "_model_name": "LayoutModel",
            "_view_count": null,
            "_view_module": "@jupyter-widgets/base",
            "_view_module_version": "1.2.0",
            "_view_name": "LayoutView",
            "align_content": null,
            "align_items": null,
            "align_self": null,
            "border": null,
            "bottom": null,
            "display": null,
            "flex": null,
            "flex_flow": null,
            "grid_area": null,
            "grid_auto_columns": null,
            "grid_auto_flow": null,
            "grid_auto_rows": null,
            "grid_column": null,
            "grid_gap": null,
            "grid_row": null,
            "grid_template_areas": null,
            "grid_template_columns": null,
            "grid_template_rows": null,
            "height": null,
            "justify_content": null,
            "justify_items": null,
            "left": null,
            "margin": null,
            "max_height": null,
            "max_width": null,
            "min_height": null,
            "min_width": null,
            "object_fit": null,
            "object_position": null,
            "order": null,
            "overflow": null,
            "overflow_x": null,
            "overflow_y": null,
            "padding": null,
            "right": null,
            "top": null,
            "visibility": null,
            "width": null
          }
        },
        "4a75c80c13a34a1e8bf0ff8c5b69cdf8": {
          "model_module": "@jupyter-widgets/controls",
          "model_name": "DescriptionStyleModel",
          "model_module_version": "1.5.0",
          "state": {
            "_model_module": "@jupyter-widgets/controls",
            "_model_module_version": "1.5.0",
            "_model_name": "DescriptionStyleModel",
            "_view_count": null,
            "_view_module": "@jupyter-widgets/base",
            "_view_module_version": "1.2.0",
            "_view_name": "StyleView",
            "description_width": ""
          }
        },
        "eb5a2c18d8534eb695f1544298c58c08": {
          "model_module": "@jupyter-widgets/base",
          "model_name": "LayoutModel",
          "model_module_version": "1.2.0",
          "state": {
            "_model_module": "@jupyter-widgets/base",
            "_model_module_version": "1.2.0",
            "_model_name": "LayoutModel",
            "_view_count": null,
            "_view_module": "@jupyter-widgets/base",
            "_view_module_version": "1.2.0",
            "_view_name": "LayoutView",
            "align_content": null,
            "align_items": null,
            "align_self": null,
            "border": null,
            "bottom": null,
            "display": null,
            "flex": null,
            "flex_flow": null,
            "grid_area": null,
            "grid_auto_columns": null,
            "grid_auto_flow": null,
            "grid_auto_rows": null,
            "grid_column": null,
            "grid_gap": null,
            "grid_row": null,
            "grid_template_areas": null,
            "grid_template_columns": null,
            "grid_template_rows": null,
            "height": null,
            "justify_content": null,
            "justify_items": null,
            "left": null,
            "margin": null,
            "max_height": null,
            "max_width": null,
            "min_height": null,
            "min_width": null,
            "object_fit": null,
            "object_position": null,
            "order": null,
            "overflow": null,
            "overflow_x": null,
            "overflow_y": null,
            "padding": null,
            "right": null,
            "top": null,
            "visibility": null,
            "width": null
          }
        },
        "2b8b747192d74144850dd9ff90e120be": {
          "model_module": "@jupyter-widgets/controls",
          "model_name": "ProgressStyleModel",
          "model_module_version": "1.5.0",
          "state": {
            "_model_module": "@jupyter-widgets/controls",
            "_model_module_version": "1.5.0",
            "_model_name": "ProgressStyleModel",
            "_view_count": null,
            "_view_module": "@jupyter-widgets/base",
            "_view_module_version": "1.2.0",
            "_view_name": "StyleView",
            "bar_color": null,
            "description_width": ""
          }
        },
        "fbcda60cfd444a83b5011095f6fa3f55": {
          "model_module": "@jupyter-widgets/base",
          "model_name": "LayoutModel",
          "model_module_version": "1.2.0",
          "state": {
            "_model_module": "@jupyter-widgets/base",
            "_model_module_version": "1.2.0",
            "_model_name": "LayoutModel",
            "_view_count": null,
            "_view_module": "@jupyter-widgets/base",
            "_view_module_version": "1.2.0",
            "_view_name": "LayoutView",
            "align_content": null,
            "align_items": null,
            "align_self": null,
            "border": null,
            "bottom": null,
            "display": null,
            "flex": null,
            "flex_flow": null,
            "grid_area": null,
            "grid_auto_columns": null,
            "grid_auto_flow": null,
            "grid_auto_rows": null,
            "grid_column": null,
            "grid_gap": null,
            "grid_row": null,
            "grid_template_areas": null,
            "grid_template_columns": null,
            "grid_template_rows": null,
            "height": null,
            "justify_content": null,
            "justify_items": null,
            "left": null,
            "margin": null,
            "max_height": null,
            "max_width": null,
            "min_height": null,
            "min_width": null,
            "object_fit": null,
            "object_position": null,
            "order": null,
            "overflow": null,
            "overflow_x": null,
            "overflow_y": null,
            "padding": null,
            "right": null,
            "top": null,
            "visibility": null,
            "width": null
          }
        },
        "6324abe825fe4159b84bb4f602688357": {
          "model_module": "@jupyter-widgets/controls",
          "model_name": "DescriptionStyleModel",
          "model_module_version": "1.5.0",
          "state": {
            "_model_module": "@jupyter-widgets/controls",
            "_model_module_version": "1.5.0",
            "_model_name": "DescriptionStyleModel",
            "_view_count": null,
            "_view_module": "@jupyter-widgets/base",
            "_view_module_version": "1.2.0",
            "_view_name": "StyleView",
            "description_width": ""
          }
        }
      }
    }
  },
  "cells": [
    {
      "cell_type": "markdown",
      "source": [
        "# **Task:** count publications by language (GIGO example)"
      ],
      "metadata": {
        "id": "e1AO7bN8OSVh"
      }
    },
    {
      "cell_type": "markdown",
      "source": [
        "The field `languageCode` is **shortcut** for the content of the structured field [`language`](https://graph.openaire.eu/docs/data-model/entities/research-product#language)"
      ],
      "metadata": {
        "id": "0Vk2vpOE6jHL"
      }
    },
    {
      "cell_type": "code",
      "source": [
        "%%bigquery\n",
        "\n",
        "SELECT languageCode, COUNT(*) AS n_papers\n",
        "FROM oag_v9_0_1.publications\n",
        "GROUP BY languageCode\n",
        "ORDER BY n_papers DESC\n",
        "LIMIT 25"
      ],
      "metadata": {
        "id": "_C6oESGSNI_7",
        "colab": {
          "base_uri": "https://localhost:8080/",
          "height": 925,
          "referenced_widgets": [
            "016948f7b6254909aa5db858e37e6384",
            "5d45a98596134f2e99c353bef6b901dc",
            "0249ee41463c491fbf564fc960aa744c",
            "cf56ba6763b84c829672169de23e3099",
            "23e57844786248f5b267a13e8246e933",
            "5abe5fba0d5b49189462309191818d11",
            "940d4e80b10341eeb8aa41016f92a4ba",
            "2c34956a61f7446a9ab28ca6d984c740",
            "127f6d5b89064572b330b52500efa7a2",
            "8a82daeeb8c94ebd8feb53a0e2ac53c6",
            "fa2d3ff950c74ea0ac43e1301ba419d8",
            "1e4a093d1cec4e61b69999a45c5ec9db",
            "a2a7bbd6290646b4a2e590a274fd0903",
            "7660ed0892954e30b4ad4e1b174083fc",
            "ee21f17bc6824e9dba26ff8788b8ce15",
            "5ad617887a344dfcb22ea1f1c09bed42",
            "b3def7bdbfd44b6a9f4c537e04d1c40f",
            "f66d90c745fc4bf7892173d1220a9664",
            "8683884a646b4ce1aa58f65cab80950f",
            "a42765c7580a492d93bf99b6ad8793b4",
            "9043cf5172f5472599ecaa7c2d453620",
            "8896813ed45e4a8da3db737c6c8ce5f9"
          ]
        },
        "executionInfo": {
          "status": "ok",
          "timestamp": 1750664785394,
          "user_tz": -240,
          "elapsed": 7381,
          "user": {
            "displayName": "",
            "userId": ""
          }
        },
        "outputId": "92385ffb-7a7f-4dc3-e873-19089dad5230"
      },
      "execution_count": null,
      "outputs": [
        {
          "output_type": "display_data",
          "data": {
            "text/plain": [
              "Query is running:   0%|          |"
            ],
            "application/vnd.jupyter.widget-view+json": {
              "version_major": 2,
              "version_minor": 0,
              "model_id": "016948f7b6254909aa5db858e37e6384"
            }
          },
          "metadata": {}
        },
        {
          "output_type": "display_data",
          "data": {
            "text/plain": [
              "Downloading:   0%|          |"
            ],
            "application/vnd.jupyter.widget-view+json": {
              "version_major": 2,
              "version_minor": 0,
              "model_id": "1e4a093d1cec4e61b69999a45c5ec9db"
            }
          },
          "metadata": {}
        },
        {
          "output_type": "execute_result",
          "data": {
            "text/plain": [
              "   languageCode   n_papers\n",
              "0           und  162151831\n",
              "1           eng   10207588\n",
              "2       fra/fre    2923939\n",
              "3       deu/ger    2560258\n",
              "4           jpn    2396616\n",
              "5           rus    2372113\n",
              "6           ita    1669119\n",
              "7           tur    1309483\n",
              "8       Español     757917\n",
              "9           spa     725757\n",
              "10          por     715699\n",
              "11          hrv     563123\n",
              "12      esl/spa     553208\n",
              "13      dut/nld     443630\n",
              "14          ukr     315824\n",
              "15      ces/cze     262267\n",
              "16      unknown     248278\n",
              "17          pol     244471\n",
              "18          dan     199534\n",
              "19          swe     183676\n",
              "20       Inglés     167340\n",
              "21          cat     166370\n",
              "22          slv     156688\n",
              "23          nor     150919\n",
              "24      fas/per     143728"
            ],
            "text/html": [
              "\n",
              "  <div id=\"df-daf6c0f8-b290-413e-9d51-2eb7910df1df\" class=\"colab-df-container\">\n",
              "    <div>\n",
              "<style scoped>\n",
              "    .dataframe tbody tr th:only-of-type {\n",
              "        vertical-align: middle;\n",
              "    }\n",
              "\n",
              "    .dataframe tbody tr th {\n",
              "        vertical-align: top;\n",
              "    }\n",
              "\n",
              "    .dataframe thead th {\n",
              "        text-align: right;\n",
              "    }\n",
              "</style>\n",
              "<table border=\"1\" class=\"dataframe\">\n",
              "  <thead>\n",
              "    <tr style=\"text-align: right;\">\n",
              "      <th></th>\n",
              "      <th>languageCode</th>\n",
              "      <th>n_papers</th>\n",
              "    </tr>\n",
              "  </thead>\n",
              "  <tbody>\n",
              "    <tr>\n",
              "      <th>0</th>\n",
              "      <td>und</td>\n",
              "      <td>162151831</td>\n",
              "    </tr>\n",
              "    <tr>\n",
              "      <th>1</th>\n",
              "      <td>eng</td>\n",
              "      <td>10207588</td>\n",
              "    </tr>\n",
              "    <tr>\n",
              "      <th>2</th>\n",
              "      <td>fra/fre</td>\n",
              "      <td>2923939</td>\n",
              "    </tr>\n",
              "    <tr>\n",
              "      <th>3</th>\n",
              "      <td>deu/ger</td>\n",
              "      <td>2560258</td>\n",
              "    </tr>\n",
              "    <tr>\n",
              "      <th>4</th>\n",
              "      <td>jpn</td>\n",
              "      <td>2396616</td>\n",
              "    </tr>\n",
              "    <tr>\n",
              "      <th>5</th>\n",
              "      <td>rus</td>\n",
              "      <td>2372113</td>\n",
              "    </tr>\n",
              "    <tr>\n",
              "      <th>6</th>\n",
              "      <td>ita</td>\n",
              "      <td>1669119</td>\n",
              "    </tr>\n",
              "    <tr>\n",
              "      <th>7</th>\n",
              "      <td>tur</td>\n",
              "      <td>1309483</td>\n",
              "    </tr>\n",
              "    <tr>\n",
              "      <th>8</th>\n",
              "      <td>Español</td>\n",
              "      <td>757917</td>\n",
              "    </tr>\n",
              "    <tr>\n",
              "      <th>9</th>\n",
              "      <td>spa</td>\n",
              "      <td>725757</td>\n",
              "    </tr>\n",
              "    <tr>\n",
              "      <th>10</th>\n",
              "      <td>por</td>\n",
              "      <td>715699</td>\n",
              "    </tr>\n",
              "    <tr>\n",
              "      <th>11</th>\n",
              "      <td>hrv</td>\n",
              "      <td>563123</td>\n",
              "    </tr>\n",
              "    <tr>\n",
              "      <th>12</th>\n",
              "      <td>esl/spa</td>\n",
              "      <td>553208</td>\n",
              "    </tr>\n",
              "    <tr>\n",
              "      <th>13</th>\n",
              "      <td>dut/nld</td>\n",
              "      <td>443630</td>\n",
              "    </tr>\n",
              "    <tr>\n",
              "      <th>14</th>\n",
              "      <td>ukr</td>\n",
              "      <td>315824</td>\n",
              "    </tr>\n",
              "    <tr>\n",
              "      <th>15</th>\n",
              "      <td>ces/cze</td>\n",
              "      <td>262267</td>\n",
              "    </tr>\n",
              "    <tr>\n",
              "      <th>16</th>\n",
              "      <td>unknown</td>\n",
              "      <td>248278</td>\n",
              "    </tr>\n",
              "    <tr>\n",
              "      <th>17</th>\n",
              "      <td>pol</td>\n",
              "      <td>244471</td>\n",
              "    </tr>\n",
              "    <tr>\n",
              "      <th>18</th>\n",
              "      <td>dan</td>\n",
              "      <td>199534</td>\n",
              "    </tr>\n",
              "    <tr>\n",
              "      <th>19</th>\n",
              "      <td>swe</td>\n",
              "      <td>183676</td>\n",
              "    </tr>\n",
              "    <tr>\n",
              "      <th>20</th>\n",
              "      <td>Inglés</td>\n",
              "      <td>167340</td>\n",
              "    </tr>\n",
              "    <tr>\n",
              "      <th>21</th>\n",
              "      <td>cat</td>\n",
              "      <td>166370</td>\n",
              "    </tr>\n",
              "    <tr>\n",
              "      <th>22</th>\n",
              "      <td>slv</td>\n",
              "      <td>156688</td>\n",
              "    </tr>\n",
              "    <tr>\n",
              "      <th>23</th>\n",
              "      <td>nor</td>\n",
              "      <td>150919</td>\n",
              "    </tr>\n",
              "    <tr>\n",
              "      <th>24</th>\n",
              "      <td>fas/per</td>\n",
              "      <td>143728</td>\n",
              "    </tr>\n",
              "  </tbody>\n",
              "</table>\n",
              "</div>\n",
              "    <div class=\"colab-df-buttons\">\n",
              "\n",
              "  <div class=\"colab-df-container\">\n",
              "    <button class=\"colab-df-convert\" onclick=\"convertToInteractive('df-daf6c0f8-b290-413e-9d51-2eb7910df1df')\"\n",
              "            title=\"Convert this dataframe to an interactive table.\"\n",
              "            style=\"display:none;\">\n",
              "\n",
              "  <svg xmlns=\"http://www.w3.org/2000/svg\" height=\"24px\" viewBox=\"0 -960 960 960\">\n",
              "    <path d=\"M120-120v-720h720v720H120Zm60-500h600v-160H180v160Zm220 220h160v-160H400v160Zm0 220h160v-160H400v160ZM180-400h160v-160H180v160Zm440 0h160v-160H620v160ZM180-180h160v-160H180v160Zm440 0h160v-160H620v160Z\"/>\n",
              "  </svg>\n",
              "    </button>\n",
              "\n",
              "  <style>\n",
              "    .colab-df-container {\n",
              "      display:flex;\n",
              "      gap: 12px;\n",
              "    }\n",
              "\n",
              "    .colab-df-convert {\n",
              "      background-color: #E8F0FE;\n",
              "      border: none;\n",
              "      border-radius: 50%;\n",
              "      cursor: pointer;\n",
              "      display: none;\n",
              "      fill: #1967D2;\n",
              "      height: 32px;\n",
              "      padding: 0 0 0 0;\n",
              "      width: 32px;\n",
              "    }\n",
              "\n",
              "    .colab-df-convert:hover {\n",
              "      background-color: #E2EBFA;\n",
              "      box-shadow: 0px 1px 2px rgba(60, 64, 67, 0.3), 0px 1px 3px 1px rgba(60, 64, 67, 0.15);\n",
              "      fill: #174EA6;\n",
              "    }\n",
              "\n",
              "    .colab-df-buttons div {\n",
              "      margin-bottom: 4px;\n",
              "    }\n",
              "\n",
              "    [theme=dark] .colab-df-convert {\n",
              "      background-color: #3B4455;\n",
              "      fill: #D2E3FC;\n",
              "    }\n",
              "\n",
              "    [theme=dark] .colab-df-convert:hover {\n",
              "      background-color: #434B5C;\n",
              "      box-shadow: 0px 1px 3px 1px rgba(0, 0, 0, 0.15);\n",
              "      filter: drop-shadow(0px 1px 2px rgba(0, 0, 0, 0.3));\n",
              "      fill: #FFFFFF;\n",
              "    }\n",
              "  </style>\n",
              "\n",
              "    <script>\n",
              "      const buttonEl =\n",
              "        document.querySelector('#df-daf6c0f8-b290-413e-9d51-2eb7910df1df button.colab-df-convert');\n",
              "      buttonEl.style.display =\n",
              "        google.colab.kernel.accessAllowed ? 'block' : 'none';\n",
              "\n",
              "      async function convertToInteractive(key) {\n",
              "        const element = document.querySelector('#df-daf6c0f8-b290-413e-9d51-2eb7910df1df');\n",
              "        const dataTable =\n",
              "          await google.colab.kernel.invokeFunction('convertToInteractive',\n",
              "                                                    [key], {});\n",
              "        if (!dataTable) return;\n",
              "\n",
              "        const docLinkHtml = 'Like what you see? Visit the ' +\n",
              "          '<a target=\"_blank\" href=https://colab.research.google.com/notebooks/data_table.ipynb>data table notebook</a>'\n",
              "          + ' to learn more about interactive tables.';\n",
              "        element.innerHTML = '';\n",
              "        dataTable['output_type'] = 'display_data';\n",
              "        await google.colab.output.renderOutput(dataTable, element);\n",
              "        const docLink = document.createElement('div');\n",
              "        docLink.innerHTML = docLinkHtml;\n",
              "        element.appendChild(docLink);\n",
              "      }\n",
              "    </script>\n",
              "  </div>\n",
              "\n",
              "\n",
              "<div id=\"df-4152f195-ac1d-4219-8933-278272ce3887\">\n",
              "  <button class=\"colab-df-quickchart\" onclick=\"quickchart('df-4152f195-ac1d-4219-8933-278272ce3887')\"\n",
              "            title=\"Suggest charts\"\n",
              "            style=\"display:none;\">\n",
              "\n",
              "<svg xmlns=\"http://www.w3.org/2000/svg\" height=\"24px\"viewBox=\"0 0 24 24\"\n",
              "     width=\"24px\">\n",
              "    <g>\n",
              "        <path d=\"M19 3H5c-1.1 0-2 .9-2 2v14c0 1.1.9 2 2 2h14c1.1 0 2-.9 2-2V5c0-1.1-.9-2-2-2zM9 17H7v-7h2v7zm4 0h-2V7h2v10zm4 0h-2v-4h2v4z\"/>\n",
              "    </g>\n",
              "</svg>\n",
              "  </button>\n",
              "\n",
              "<style>\n",
              "  .colab-df-quickchart {\n",
              "      --bg-color: #E8F0FE;\n",
              "      --fill-color: #1967D2;\n",
              "      --hover-bg-color: #E2EBFA;\n",
              "      --hover-fill-color: #174EA6;\n",
              "      --disabled-fill-color: #AAA;\n",
              "      --disabled-bg-color: #DDD;\n",
              "  }\n",
              "\n",
              "  [theme=dark] .colab-df-quickchart {\n",
              "      --bg-color: #3B4455;\n",
              "      --fill-color: #D2E3FC;\n",
              "      --hover-bg-color: #434B5C;\n",
              "      --hover-fill-color: #FFFFFF;\n",
              "      --disabled-bg-color: #3B4455;\n",
              "      --disabled-fill-color: #666;\n",
              "  }\n",
              "\n",
              "  .colab-df-quickchart {\n",
              "    background-color: var(--bg-color);\n",
              "    border: none;\n",
              "    border-radius: 50%;\n",
              "    cursor: pointer;\n",
              "    display: none;\n",
              "    fill: var(--fill-color);\n",
              "    height: 32px;\n",
              "    padding: 0;\n",
              "    width: 32px;\n",
              "  }\n",
              "\n",
              "  .colab-df-quickchart:hover {\n",
              "    background-color: var(--hover-bg-color);\n",
              "    box-shadow: 0 1px 2px rgba(60, 64, 67, 0.3), 0 1px 3px 1px rgba(60, 64, 67, 0.15);\n",
              "    fill: var(--button-hover-fill-color);\n",
              "  }\n",
              "\n",
              "  .colab-df-quickchart-complete:disabled,\n",
              "  .colab-df-quickchart-complete:disabled:hover {\n",
              "    background-color: var(--disabled-bg-color);\n",
              "    fill: var(--disabled-fill-color);\n",
              "    box-shadow: none;\n",
              "  }\n",
              "\n",
              "  .colab-df-spinner {\n",
              "    border: 2px solid var(--fill-color);\n",
              "    border-color: transparent;\n",
              "    border-bottom-color: var(--fill-color);\n",
              "    animation:\n",
              "      spin 1s steps(1) infinite;\n",
              "  }\n",
              "\n",
              "  @keyframes spin {\n",
              "    0% {\n",
              "      border-color: transparent;\n",
              "      border-bottom-color: var(--fill-color);\n",
              "      border-left-color: var(--fill-color);\n",
              "    }\n",
              "    20% {\n",
              "      border-color: transparent;\n",
              "      border-left-color: var(--fill-color);\n",
              "      border-top-color: var(--fill-color);\n",
              "    }\n",
              "    30% {\n",
              "      border-color: transparent;\n",
              "      border-left-color: var(--fill-color);\n",
              "      border-top-color: var(--fill-color);\n",
              "      border-right-color: var(--fill-color);\n",
              "    }\n",
              "    40% {\n",
              "      border-color: transparent;\n",
              "      border-right-color: var(--fill-color);\n",
              "      border-top-color: var(--fill-color);\n",
              "    }\n",
              "    60% {\n",
              "      border-color: transparent;\n",
              "      border-right-color: var(--fill-color);\n",
              "    }\n",
              "    80% {\n",
              "      border-color: transparent;\n",
              "      border-right-color: var(--fill-color);\n",
              "      border-bottom-color: var(--fill-color);\n",
              "    }\n",
              "    90% {\n",
              "      border-color: transparent;\n",
              "      border-bottom-color: var(--fill-color);\n",
              "    }\n",
              "  }\n",
              "</style>\n",
              "\n",
              "  <script>\n",
              "    async function quickchart(key) {\n",
              "      const quickchartButtonEl =\n",
              "        document.querySelector('#' + key + ' button');\n",
              "      quickchartButtonEl.disabled = true;  // To prevent multiple clicks.\n",
              "      quickchartButtonEl.classList.add('colab-df-spinner');\n",
              "      try {\n",
              "        const charts = await google.colab.kernel.invokeFunction(\n",
              "            'suggestCharts', [key], {});\n",
              "      } catch (error) {\n",
              "        console.error('Error during call to suggestCharts:', error);\n",
              "      }\n",
              "      quickchartButtonEl.classList.remove('colab-df-spinner');\n",
              "      quickchartButtonEl.classList.add('colab-df-quickchart-complete');\n",
              "    }\n",
              "    (() => {\n",
              "      let quickchartButtonEl =\n",
              "        document.querySelector('#df-4152f195-ac1d-4219-8933-278272ce3887 button');\n",
              "      quickchartButtonEl.style.display =\n",
              "        google.colab.kernel.accessAllowed ? 'block' : 'none';\n",
              "    })();\n",
              "  </script>\n",
              "</div>\n",
              "\n",
              "    </div>\n",
              "  </div>\n"
            ],
            "application/vnd.google.colaboratory.intrinsic+json": {
              "type": "dataframe",
              "summary": "{\n  \"name\": \"get_ipython()\",\n  \"rows\": 25,\n  \"fields\": [\n    {\n      \"column\": \"languageCode\",\n      \"properties\": {\n        \"dtype\": \"string\",\n        \"num_unique_values\": 25,\n        \"samples\": [\n          \"Espa\\u00f1ol\",\n          \"unknown\",\n          \"und\"\n        ],\n        \"semantic_type\": \"\",\n        \"description\": \"\"\n      }\n    },\n    {\n      \"column\": \"n_papers\",\n      \"properties\": {\n        \"dtype\": \"Int64\",\n        \"num_unique_values\": 25,\n        \"samples\": [\n          757917,\n          248278,\n          162151831\n        ],\n        \"semantic_type\": \"\",\n        \"description\": \"\"\n      }\n    }\n  ]\n}"
            }
          },
          "metadata": {},
          "execution_count": 1
        }
      ]
    },
    {
      "cell_type": "markdown",
      "source": [
        "# **Task:** find publications with a keyword in the title, e.g., \"covid\""
      ],
      "metadata": {
        "id": "gV4GreXBGTgm"
      }
    },
    {
      "cell_type": "code",
      "source": [
        "%%bigquery\n",
        "\n",
        "SELECT * # check the dry run before running the query!\n",
        "FROM oag_v9_0_1.publications\n",
        "WHERE CONTAINS_SUBSTR(mainTitle, 'covid')\n",
        "LIMIT 5"
      ],
      "metadata": {
        "id": "4tYCrmTFGTRN"
      },
      "execution_count": null,
      "outputs": []
    },
    {
      "cell_type": "code",
      "source": [
        "%%bigquery\n",
        "\n",
        "SELECT mainTitle, authors\n",
        "FROM oag_v9_0_1.publications\n",
        "WHERE CONTAINS_SUBSTR(mainTitle, 'covid')\n",
        "LIMIT 5"
      ],
      "metadata": {
        "id": "_d5jGGtFN3io"
      },
      "execution_count": null,
      "outputs": []
    },
    {
      "cell_type": "markdown",
      "source": [
        "Let's manipalate the author structure"
      ],
      "metadata": {
        "id": "WOq0zGB4fk9J"
      }
    },
    {
      "cell_type": "code",
      "source": [
        "%%bigquery\n",
        "\n",
        "SELECT id, mainTitle, ARRAY_AGG(JSON_VALUE(author.fullName))\n",
        "FROM oag_v9_0_1.publications,\n",
        "  UNNEST(JSON_QUERY_ARRAY(authors)) AS author\n",
        "WHERE CONTAINS_SUBSTR(mainTitle, 'covid')\n",
        "GROUP BY id, mainTitle\n",
        "LIMIT 10"
      ],
      "metadata": {
        "id": "JUcUvqMpeWtJ"
      },
      "execution_count": null,
      "outputs": []
    },
    {
      "cell_type": "markdown",
      "source": [
        "# **Task:** count publications per year\n"
      ],
      "metadata": {
        "id": "C7JVDIB5FUS0"
      }
    },
    {
      "cell_type": "code",
      "source": [
        "%%bigquery\n",
        "\n",
        "SELECT publicationDate AS year, COUNT(*) AS n_pubs\n",
        "FROM oag_v9_0_1.publications\n",
        "GROUP BY year\n",
        "ORDER BY year DESC"
      ],
      "metadata": {
        "id": "QVJ-ZtfqgWCh"
      },
      "execution_count": null,
      "outputs": []
    },
    {
      "cell_type": "markdown",
      "source": [
        "Ouch! There are very strange-looking years in the query results... Let's check why!\n",
        "\n",
        "Grab one year with just one publication and check it, e.g., `9999-01-01`"
      ],
      "metadata": {
        "id": "DsN4_KRkJg8k"
      }
    },
    {
      "cell_type": "code",
      "source": [
        "%%bigquery\n",
        "\n",
        "SELECT id\n",
        "FROM oag_v9_0_1.publications\n",
        "WHERE publicationDate = '9999-01-01'\n",
        "LIMIT 10"
      ],
      "metadata": {
        "id": "R0YRrtEIFzw3"
      },
      "execution_count": null,
      "outputs": []
    },
    {
      "cell_type": "markdown",
      "source": [
        "The suggested query returns id `od______3686::02f2bfd3e9d1d278a9ba84f7f4658b43`\n",
        "\n",
        "This can be fed to the following URL https://explore.openaire.eu/search/publication?articleId=***the_id*** to see the record on OpenAIRE portal.\n",
        "e.g., https://explore.openaire.eu/search/publication?articleId=od______3686::02f2bfd3e9d1d278a9ba84f7f4658b43\n",
        "\n",
        "If you click to view the source record (https://iris.uniroma1.it/handle/11573/414149), you will see that the metadata field is off from the source."
      ],
      "metadata": {
        "id": "zem4VVlPGccU"
      }
    },
    {
      "cell_type": "markdown",
      "source": [
        "So, we need to extract years from dates **AND** we need to filter by year interval.\n",
        "\n",
        "*Hint:* There is a handy function to extract the year from the relevant field `publicationDate`. Check the following."
      ],
      "metadata": {
        "id": "z2bVSMpKgWYY"
      }
    },
    {
      "cell_type": "code",
      "source": [
        "%%bigquery\n",
        "\n",
        "SELECT EXTRACT(YEAR FROM DATE('2024-01-20')) as YEAR"
      ],
      "metadata": {
        "id": "imJBDzXTaWLu",
        "colab": {
          "base_uri": "https://localhost:8080/",
          "height": 172,
          "referenced_widgets": [
            "04c98d0759464a67bcd256059d95364b",
            "8f35723470dd46d99bc9eb2fbfcfa471",
            "628074b882554d6c8439547dcdeeee56",
            "27f4220b142447adb8775cf8335f4618",
            "15ab199edd41437fab12bd620e4eb028",
            "7c943347b7f74e258ee5ba3a4f4b7805",
            "b9f77fb72cd14530ac01d88f75de1274",
            "58a8f171e2894e0a850ddd85927b5b83",
            "c366c7435515476da46ad82bead7a410",
            "4703092c40e545b994635f8b38e5f13c",
            "f8dbdd144f6042dbbb33bdb66e25a680",
            "3f4dad10c3ec464c91cf64a763acf03b",
            "e9a91d8923ca41a6b7fc76e081fe1d26",
            "842f24febdcf42d5a4fdcd88fa49f338",
            "9f554416ef654b8fba3c1af6e4291f4d",
            "49994711a2624f9d9aab33a491c30620",
            "7b802ceb21c74fd4b989f97ddc37add4",
            "4a75c80c13a34a1e8bf0ff8c5b69cdf8",
            "eb5a2c18d8534eb695f1544298c58c08",
            "2b8b747192d74144850dd9ff90e120be",
            "fbcda60cfd444a83b5011095f6fa3f55",
            "6324abe825fe4159b84bb4f602688357"
          ]
        },
        "executionInfo": {
          "status": "ok",
          "timestamp": 1750664788699,
          "user_tz": -240,
          "elapsed": 3310,
          "user": {
            "displayName": "",
            "userId": ""
          }
        },
        "outputId": "b14f9115-d9b1-492e-b971-1d35b25a62c6"
      },
      "execution_count": null,
      "outputs": [
        {
          "output_type": "display_data",
          "data": {
            "text/plain": [
              "Query is running:   0%|          |"
            ],
            "application/vnd.jupyter.widget-view+json": {
              "version_major": 2,
              "version_minor": 0,
              "model_id": "04c98d0759464a67bcd256059d95364b"
            }
          },
          "metadata": {}
        },
        {
          "output_type": "display_data",
          "data": {
            "text/plain": [
              "Downloading:   0%|          |"
            ],
            "application/vnd.jupyter.widget-view+json": {
              "version_major": 2,
              "version_minor": 0,
              "model_id": "3f4dad10c3ec464c91cf64a763acf03b"
            }
          },
          "metadata": {}
        },
        {
          "output_type": "execute_result",
          "data": {
            "text/plain": [
              "   YEAR\n",
              "0  2024"
            ],
            "text/html": [
              "\n",
              "  <div id=\"df-5ae1cff2-0dd6-43a6-ac7d-3014760e1875\" class=\"colab-df-container\">\n",
              "    <div>\n",
              "<style scoped>\n",
              "    .dataframe tbody tr th:only-of-type {\n",
              "        vertical-align: middle;\n",
              "    }\n",
              "\n",
              "    .dataframe tbody tr th {\n",
              "        vertical-align: top;\n",
              "    }\n",
              "\n",
              "    .dataframe thead th {\n",
              "        text-align: right;\n",
              "    }\n",
              "</style>\n",
              "<table border=\"1\" class=\"dataframe\">\n",
              "  <thead>\n",
              "    <tr style=\"text-align: right;\">\n",
              "      <th></th>\n",
              "      <th>YEAR</th>\n",
              "    </tr>\n",
              "  </thead>\n",
              "  <tbody>\n",
              "    <tr>\n",
              "      <th>0</th>\n",
              "      <td>2024</td>\n",
              "    </tr>\n",
              "  </tbody>\n",
              "</table>\n",
              "</div>\n",
              "    <div class=\"colab-df-buttons\">\n",
              "\n",
              "  <div class=\"colab-df-container\">\n",
              "    <button class=\"colab-df-convert\" onclick=\"convertToInteractive('df-5ae1cff2-0dd6-43a6-ac7d-3014760e1875')\"\n",
              "            title=\"Convert this dataframe to an interactive table.\"\n",
              "            style=\"display:none;\">\n",
              "\n",
              "  <svg xmlns=\"http://www.w3.org/2000/svg\" height=\"24px\" viewBox=\"0 -960 960 960\">\n",
              "    <path d=\"M120-120v-720h720v720H120Zm60-500h600v-160H180v160Zm220 220h160v-160H400v160Zm0 220h160v-160H400v160ZM180-400h160v-160H180v160Zm440 0h160v-160H620v160ZM180-180h160v-160H180v160Zm440 0h160v-160H620v160Z\"/>\n",
              "  </svg>\n",
              "    </button>\n",
              "\n",
              "  <style>\n",
              "    .colab-df-container {\n",
              "      display:flex;\n",
              "      gap: 12px;\n",
              "    }\n",
              "\n",
              "    .colab-df-convert {\n",
              "      background-color: #E8F0FE;\n",
              "      border: none;\n",
              "      border-radius: 50%;\n",
              "      cursor: pointer;\n",
              "      display: none;\n",
              "      fill: #1967D2;\n",
              "      height: 32px;\n",
              "      padding: 0 0 0 0;\n",
              "      width: 32px;\n",
              "    }\n",
              "\n",
              "    .colab-df-convert:hover {\n",
              "      background-color: #E2EBFA;\n",
              "      box-shadow: 0px 1px 2px rgba(60, 64, 67, 0.3), 0px 1px 3px 1px rgba(60, 64, 67, 0.15);\n",
              "      fill: #174EA6;\n",
              "    }\n",
              "\n",
              "    .colab-df-buttons div {\n",
              "      margin-bottom: 4px;\n",
              "    }\n",
              "\n",
              "    [theme=dark] .colab-df-convert {\n",
              "      background-color: #3B4455;\n",
              "      fill: #D2E3FC;\n",
              "    }\n",
              "\n",
              "    [theme=dark] .colab-df-convert:hover {\n",
              "      background-color: #434B5C;\n",
              "      box-shadow: 0px 1px 3px 1px rgba(0, 0, 0, 0.15);\n",
              "      filter: drop-shadow(0px 1px 2px rgba(0, 0, 0, 0.3));\n",
              "      fill: #FFFFFF;\n",
              "    }\n",
              "  </style>\n",
              "\n",
              "    <script>\n",
              "      const buttonEl =\n",
              "        document.querySelector('#df-5ae1cff2-0dd6-43a6-ac7d-3014760e1875 button.colab-df-convert');\n",
              "      buttonEl.style.display =\n",
              "        google.colab.kernel.accessAllowed ? 'block' : 'none';\n",
              "\n",
              "      async function convertToInteractive(key) {\n",
              "        const element = document.querySelector('#df-5ae1cff2-0dd6-43a6-ac7d-3014760e1875');\n",
              "        const dataTable =\n",
              "          await google.colab.kernel.invokeFunction('convertToInteractive',\n",
              "                                                    [key], {});\n",
              "        if (!dataTable) return;\n",
              "\n",
              "        const docLinkHtml = 'Like what you see? Visit the ' +\n",
              "          '<a target=\"_blank\" href=https://colab.research.google.com/notebooks/data_table.ipynb>data table notebook</a>'\n",
              "          + ' to learn more about interactive tables.';\n",
              "        element.innerHTML = '';\n",
              "        dataTable['output_type'] = 'display_data';\n",
              "        await google.colab.output.renderOutput(dataTable, element);\n",
              "        const docLink = document.createElement('div');\n",
              "        docLink.innerHTML = docLinkHtml;\n",
              "        element.appendChild(docLink);\n",
              "      }\n",
              "    </script>\n",
              "  </div>\n",
              "\n",
              "\n",
              "    </div>\n",
              "  </div>\n"
            ],
            "application/vnd.google.colaboratory.intrinsic+json": {
              "type": "dataframe",
              "summary": "{\n  \"name\": \"get_ipython()\",\n  \"rows\": 1,\n  \"fields\": [\n    {\n      \"column\": \"YEAR\",\n      \"properties\": {\n        \"dtype\": \"Int64\",\n        \"num_unique_values\": 1,\n        \"samples\": [\n          2024\n        ],\n        \"semantic_type\": \"\",\n        \"description\": \"\"\n      }\n    }\n  ]\n}"
            }
          },
          "metadata": {},
          "execution_count": 2
        }
      ]
    },
    {
      "cell_type": "code",
      "source": [],
      "metadata": {
        "id": "kbwI6KXpv3ZR"
      },
      "execution_count": null,
      "outputs": []
    },
    {
      "cell_type": "markdown",
      "source": [
        "Let's plug now that function into the previous query."
      ],
      "metadata": {
        "id": "Izbutnpui2Sc"
      }
    },
    {
      "cell_type": "code",
      "source": [
        "%%bigquery\n",
        "\n",
        "SELECT EXTRACT(YEAR FROM DATE(publicationDate)) AS year,\n",
        "        COUNT(*) AS n_pubs\n",
        "FROM oag_v9_0_1.publications\n",
        "GROUP BY year\n",
        "ORDER BY year DESC"
      ],
      "metadata": {
        "id": "IDtp6Sa3E3YM"
      },
      "execution_count": null,
      "outputs": []
    },
    {
      "cell_type": "markdown",
      "source": [
        "Let's try to filter away year distortions. Repeat the query above by providing a feasible year range."
      ],
      "metadata": {
        "id": "WbwptPVqOcha"
      }
    },
    {
      "cell_type": "code",
      "source": [
        "%%bigquery\n",
        "\n",
        "SELECT EXTRACT(YEAR FROM DATE(publicationDate)) AS year, count(*) AS n_pubs\n",
        "FROM oag_v9_0_1.publications\n",
        "GROUP BY year\n",
        "HAVING year BETWEEN 2014 AND 2024\n",
        "# HAVING year >= 2014 AND year <= 2024\n",
        "ORDER BY year DESC"
      ],
      "metadata": {
        "id": "8p3OzarbOa_C"
      },
      "execution_count": null,
      "outputs": []
    },
    {
      "cell_type": "markdown",
      "source": [
        "## **Subtask:** count publications with a given keyword in the title, aggregated by year"
      ],
      "metadata": {
        "id": "8KjTXajZVR1n"
      }
    },
    {
      "cell_type": "code",
      "source": [
        "%%bigquery\n",
        "\n",
        "SELECT EXTRACT(YEAR FROM DATE(publicationDate)) AS year, count(*) AS n_pubs\n",
        "FROM oag_v9_0_1.publications\n",
        "WHERE CONTAINS_SUBSTR(mainTitle, 'covid')\n",
        "GROUP BY year\n",
        "HAVING year BETWEEN 2014 AND 2024\n",
        "# HAVING year >= 2014 AND year <= 2024\n",
        "ORDER BY year DESC"
      ],
      "metadata": {
        "id": "jV7vyPSmgDkj"
      },
      "execution_count": null,
      "outputs": []
    },
    {
      "cell_type": "markdown",
      "source": [
        "# **Task:** count publications by country (of the organisations managing data sources)\n",
        "\n"
      ],
      "metadata": {
        "id": "KO8GRxIsImRn"
      }
    },
    {
      "cell_type": "code",
      "source": [
        "%%bigquery\n",
        "\n",
        "SELECT JSON_VALUE(pub_country.code) AS code, COUNT(DISTINCT id) AS n_pubs\n",
        "FROM oag_v9_0_1.publications,\n",
        "  UNNEST(JSON_QUERY_ARRAY(countries)) AS pub_country\n",
        "GROUP BY code\n",
        "ORDER BY n_pubs DESC\n",
        "LIMIT 10"
      ],
      "metadata": {
        "id": "Jbttr_oeDxV7"
      },
      "execution_count": null,
      "outputs": []
    },
    {
      "cell_type": "markdown",
      "source": [
        "## **Subtask:** count publications by country in a specific year"
      ],
      "metadata": {
        "id": "28jTVz5hM3_f"
      }
    },
    {
      "cell_type": "code",
      "source": [
        "%%bigquery\n",
        "\n",
        "SELECT JSON_VALUE(pub_country.code) AS code, COUNT(DISTINCT id) AS n_pubs\n",
        "FROM oag_v9_0_1.publications,\n",
        "  UNNEST(JSON_QUERY_ARRAY(countries)) AS pub_country\n",
        "WHERE EXTRACT(YEAR FROM DATE(publicationDate)) = 2023\n",
        "GROUP BY code\n",
        "ORDER BY n_pubs DESC"
      ],
      "metadata": {
        "id": "CXicGC9tE9Dk"
      },
      "execution_count": null,
      "outputs": []
    },
    {
      "cell_type": "code",
      "source": [
        "# hasAuthorInstitution"
      ],
      "metadata": {
        "id": "zLa3kxH-VVgf"
      },
      "execution_count": null,
      "outputs": []
    },
    {
      "cell_type": "markdown",
      "source": [
        "## Subtask: add keyword filtering to WHERE clause"
      ],
      "metadata": {
        "id": "UqCvgmeontYl"
      }
    },
    {
      "cell_type": "code",
      "source": [
        "%%bigquery\n",
        "\n",
        "SELECT JSON_VALUE(pub_country.code) AS code, COUNT(DISTINCT id) AS n_pubs\n",
        "FROM\n",
        "  oag_v9_0_1.publications,\n",
        "    UNNEST(JSON_QUERY_ARRAY(countries)) AS pub_country\n",
        "WHERE EXTRACT(YEAR FROM DATE(publicationDate)) = 2023 AND\n",
        "      CONTAINS_SUBSTR(mainTitle, 'crispr')\n",
        "GROUP BY code\n",
        "ORDER BY n_pubs DESC"
      ],
      "metadata": {
        "id": "SGZ453DjmEtf"
      },
      "execution_count": null,
      "outputs": []
    },
    {
      "cell_type": "markdown",
      "source": [
        "# **Task:** find active projects"
      ],
      "metadata": {
        "id": "BlpaP2O_TKOV"
      }
    },
    {
      "cell_type": "code",
      "source": [
        "%%bigquery\n",
        "\n",
        "SELECT id, title,\n",
        "    EXTRACT(YEAR FROM DATE(projects.startDate)) AS start_year,\n",
        "    EXTRACT(YEAR FROM DATE(projects.endDate)) AS end_year\n",
        "FROM oag_v9_0_1.projects\n",
        "WHERE EXTRACT(YEAR FROM DATE(projects.endDate)) > 2024"
      ],
      "metadata": {
        "id": "DckOVa2GS0jh"
      },
      "execution_count": null,
      "outputs": []
    },
    {
      "cell_type": "markdown",
      "source": [
        "## Subtask: count active projects by jurisdiction"
      ],
      "metadata": {
        "id": "cuxkYkE0SEsP"
      }
    },
    {
      "cell_type": "markdown",
      "source": [
        "To find active projects within a specific jurisdiction works like this"
      ],
      "metadata": {
        "id": "U2SlV-m0S3Lb"
      }
    },
    {
      "cell_type": "code",
      "source": [
        "%%bigquery\n",
        "\n",
        "SELECT id, title, JSON_VALUE(p_fund.jurisdiction) AS jurisdiction,\n",
        "  EXTRACT(YEAR FROM DATE(projects.startDate)) AS start_year,\n",
        "  EXTRACT(YEAR FROM DATE(projects.endDate)) AS end_year\n",
        "FROM oag_v9_0_1.projects,\n",
        "  UNNEST(JSON_QUERY_ARRAY(fundings)) AS p_fund\n",
        "WHERE EXTRACT(YEAR FROM DATE(projects.endDate)) > 2024 AND\n",
        "  JSON_VALUE(p_fund.jurisdiction) = 'EU'\n",
        "LIMIT 5"
      ],
      "metadata": {
        "id": "k3TZrSaRSFbN"
      },
      "execution_count": null,
      "outputs": []
    },
    {
      "cell_type": "markdown",
      "source": [
        "Then, we can aggregate using that field"
      ],
      "metadata": {
        "id": "5FcKtm2FS_4p"
      }
    },
    {
      "cell_type": "code",
      "source": [
        "%%bigquery\n",
        "\n",
        "SELECT JSON_VALUE(p_fund.jurisdiction) AS jurisdiction, COUNT(id) AS n_projects\n",
        "FROM oag_v9_0_1.projects,\n",
        "  UNNEST(JSON_QUERY_ARRAY(fundings)) AS p_fund\n",
        "WHERE EXTRACT(YEAR FROM DATE(projects.endDate)) > 2024\n",
        "GROUP BY jurisdiction\n",
        "ORDER BY n_projects DESC"
      ],
      "metadata": {
        "id": "H5CoHh3cSg0k"
      },
      "execution_count": null,
      "outputs": []
    },
    {
      "cell_type": "markdown",
      "source": [
        "# **Task:** count projects by subject"
      ],
      "metadata": {
        "id": "-K-lrlRHPh27"
      }
    },
    {
      "cell_type": "code",
      "source": [
        "%%bigquery\n",
        "\n",
        "SELECT project_subjects\n",
        "FROM oag_v9_0_1.projects,\n",
        "  UNNEST(JSON_QUERY_ARRAY(subjects)) AS project_subjects"
      ],
      "metadata": {
        "id": "2BbFqFivtWb3"
      },
      "execution_count": null,
      "outputs": []
    },
    {
      "cell_type": "code",
      "source": [
        "%%bigquery\n",
        "\n",
        "SELECT JSON_VALUE(project_subjects) AS subject, COUNT(id) AS n_projects\n",
        "FROM oag_v9_0_1.projects,\n",
        "  UNNEST(JSON_QUERY_ARRAY(subjects)) AS project_subjects\n",
        "GROUP BY subject\n",
        "ORDER BY n_projects DESC"
      ],
      "metadata": {
        "id": "sTOJiK7hFSLc"
      },
      "execution_count": null,
      "outputs": []
    },
    {
      "cell_type": "markdown",
      "source": [
        "## **Subtask:** count active projects by subjects"
      ],
      "metadata": {
        "id": "7CqWSfQNZaNK"
      }
    },
    {
      "cell_type": "code",
      "source": [
        "%%bigquery\n",
        "\n",
        "SELECT JSON_VALUE(subject) as subject, COUNT(id) AS n_projects\n",
        "FROM oag_v9_0_1.projects,\n",
        "  UNNEST(JSON_QUERY_ARRAY(subjects)) AS subject\n",
        "WHERE EXTRACT(YEAR FROM DATE(projects.endDate)) > 2024\n",
        "GROUP BY subject\n",
        "ORDER BY n_projects DESC\n"
      ],
      "metadata": {
        "id": "vSdND3gjZbcb"
      },
      "execution_count": null,
      "outputs": []
    },
    {
      "cell_type": "markdown",
      "source": [
        "## **Subtask:** count project by subject, aggregate total funded amount\n",
        "\n",
        "Hint: Funded amounts can have different currency."
      ],
      "metadata": {
        "id": "I0IVdfgwXeIx"
      }
    },
    {
      "cell_type": "code",
      "source": [
        "%%bigquery\n",
        "\n",
        "SELECT JSON_VALUE(subject) AS subject,\n",
        "        COUNT(id) AS n_projects,\n",
        "        SUM(fundedAmount) AS funded_total\n",
        "FROM\n",
        "  oag_v9_0_1.projects,\n",
        "    UNNEST(JSON_QUERY_ARRAY(subjects)) AS subject\n",
        "WHERE currency = 'EUR'\n",
        "GROUP BY subject\n",
        "ORDER BY n_projects DESC, funded_total DESC"
      ],
      "metadata": {
        "id": "Um0Q9T3TVSxF"
      },
      "execution_count": null,
      "outputs": []
    },
    {
      "cell_type": "markdown",
      "source": [
        "# **Task:** count different OA statuses by year"
      ],
      "metadata": {
        "id": "cT0XsKLI4mXi"
      }
    },
    {
      "cell_type": "code",
      "source": [
        "%%bigquery\n",
        "\n",
        "SELECT EXTRACT(YEAR FROM DATE(publicationDate)) as year,\n",
        "      JSON_VALUE(bestAccessRight.label) AS OA_status,\n",
        "      COUNT(*) AS n_papers\n",
        "FROM oag_v9_0_1.publications\n",
        "GROUP BY year, OA_status\n",
        "HAVING year BETWEEN 2020 AND 2024\n",
        "ORDER BY year DESC"
      ],
      "metadata": {
        "id": "plYOyfiIpiEs"
      },
      "execution_count": null,
      "outputs": []
    },
    {
      "cell_type": "markdown",
      "source": [
        "# **Task:** explore instances"
      ],
      "metadata": {
        "id": "MMvGUom8u5pc"
      }
    },
    {
      "cell_type": "code",
      "source": [
        "%%bigquery\n",
        "\n",
        "SELECT JSON_VALUE(instance.type) as instance_type, COUNT(*) AS count\n",
        "FROM oag_v9_0_1.publications,\n",
        "  UNNEST(JSON_QUERY_ARRAY(instances)) AS instance\n",
        "GROUP BY instance_type\n",
        "ORDER BY count DESC"
      ],
      "metadata": {
        "id": "S4ZiT6NTurc-"
      },
      "execution_count": null,
      "outputs": []
    },
    {
      "cell_type": "markdown",
      "source": [],
      "metadata": {
        "id": "bHcmD2qR1lgP"
      }
    },
    {
      "cell_type": "markdown",
      "source": [
        "## **Subtask:** filter by instance types"
      ],
      "metadata": {
        "id": "uD38_hm4uztH"
      }
    },
    {
      "cell_type": "markdown",
      "source": [
        "The table `publications` has this many rows"
      ],
      "metadata": {
        "id": "kvNtPNYlEhFN"
      }
    },
    {
      "cell_type": "code",
      "source": [
        "%%bigquery\n",
        "\n",
        "SELECT COUNT(DISTINCT id)\n",
        "FROM oag_v9_0_1.publications"
      ],
      "metadata": {
        "id": "B0uhKI0rxIEt"
      },
      "execution_count": null,
      "outputs": []
    },
    {
      "cell_type": "markdown",
      "source": [
        "However, we may want to restrict to specific instance types, for example"
      ],
      "metadata": {
        "id": "0Ex3ivxeEpQe"
      }
    },
    {
      "cell_type": "code",
      "source": [
        "%%bigquery\n",
        "\n",
        "SELECT COUNT(DISTINCT id)\n",
        "FROM oag_v9_0_1.publications,\n",
        "  UNNEST(JSON_QUERY_ARRAY(instances)) AS instance\n",
        "WHERE JSON_VALUE(instance.type) IN ('Article',\n",
        "                                           'Book',\n",
        "                                           'Conference object',\n",
        "                                           'Part of book or chapter of book',\n",
        "                                           'Data Paper',\n",
        "                                           'Software Paper')"
      ],
      "metadata": {
        "id": "alozNFE1CpcC"
      },
      "execution_count": null,
      "outputs": []
    },
    {
      "cell_type": "code",
      "source": [
        "%%bigquery\n",
        "\n",
        "SELECT *\n",
        "FROM oag_v9_0_1.publications\n",
        "WHERE id IN (SELECT DISTINCT id\n",
        "              FROM oag_v9_0_1.publications,\n",
        "                UNNEST(JSON_QUERY_ARRAY(instances)) AS instance\n",
        "              WHERE JSON_VALUE(instance.type) IN ('Article',\n",
        "                                                        'Book',\n",
        "                                                        'Conference object',\n",
        "                                                        'Part of book or chapter of book',\n",
        "                                                        'Data Paper',\n",
        "                                                        'Software Paper'))\n",
        "LIMIT 10"
      ],
      "metadata": {
        "id": "vXDZPe1rvaDT"
      },
      "execution_count": null,
      "outputs": []
    },
    {
      "cell_type": "markdown",
      "source": [
        "## Subtask: focus on peer-reviewed material"
      ],
      "metadata": {
        "id": "57Oj0IyF_sEt"
      }
    },
    {
      "cell_type": "markdown",
      "source": [
        "Transform this query, focusing only on peer-reviewed material.\n",
        "\n",
        "Hint: peer-review information can be found inside [instances](https://graph.openaire.eu/docs/data-model/entities/other#instance), i.e., the field `refereed`"
      ],
      "metadata": {
        "id": "lx3klk5P_8ZI"
      }
    },
    {
      "cell_type": "code",
      "source": [
        "%%bigquery\n",
        "\n",
        "SELECT JSON_VALUE(country.code) AS code, COUNT(DISTINCT id) AS n_pubs\n",
        "FROM oag_v9_0_1.publications,\n",
        "  UNNEST(JSON_QUERY_ARRAY(countries)) AS country\n",
        "GROUP BY code\n",
        "ORDER BY n_pubs DESC\n",
        "LIMIT 10"
      ],
      "metadata": {
        "id": "y4wADLtEu2mI"
      },
      "execution_count": null,
      "outputs": []
    },
    {
      "cell_type": "code",
      "source": [
        "%%bigquery\n",
        "\n",
        "SELECT JSON_VALUE(country.code) AS code, COUNT(DISTINCT id) AS n_pubs\n",
        "FROM oag_v9_0_1.publications,\n",
        "  UNNEST(JSON_QUERY_ARRAY(countries)) AS country\n",
        "WHERE id IN (SELECT DISTINCT id\n",
        "              FROM oag_v9_0_1.publications,\n",
        "                UNNEST(JSON_QUERY_ARRAY(instances)) AS instance\n",
        "              WHERE JSON_VALUE(instance.refereed) = 'peerReviewed')\n",
        "GROUP BY code\n",
        "ORDER BY n_pubs DESC\n",
        "LIMIT 10"
      ],
      "metadata": {
        "id": "4yiiKca0AP8X"
      },
      "execution_count": null,
      "outputs": []
    },
    {
      "cell_type": "markdown",
      "source": [
        "# **Task:** aggregate publications by author"
      ],
      "metadata": {
        "id": "NKymUAtTYQ3h"
      }
    },
    {
      "cell_type": "code",
      "source": [
        "%%bigquery\n",
        "\n",
        "SELECT JSON_VALUE(author.fullName) AS fullname,\n",
        "COUNT(DISTINCT(id)) AS n_pubs\n",
        "FROM oag_v9_0_1.publications,\n",
        "UNNEST(JSON_QUERY_ARRAY(authors)) author\n",
        "GROUP BY fullname\n",
        "LIMIT 50"
      ],
      "metadata": {
        "id": "AmC2Tz8nYkTt"
      },
      "execution_count": null,
      "outputs": []
    },
    {
      "cell_type": "code",
      "source": [
        "%%bigquery\n",
        "\n",
        "SELECT JSON_VALUE(pub_author.pid.id.value) AS orcid,\n",
        "    JSON_VALUE(pub_author.fullName) AS fullname,\n",
        "    COUNT(DISTINCT(id)) AS n_pubs\n",
        "FROM oag_v9_0_1.publications,\n",
        "    UNNEST(JSON_QUERY_ARRAY(authors)) pub_author\n",
        "WHERE JSON_VALUE(pub_author.pid.id.value) IS NOT NULL\n",
        "GROUP BY orcid, fullname\n",
        "ORDER BY n_pubs DESC"
      ],
      "metadata": {
        "id": "ADurZahjA6wU"
      },
      "execution_count": null,
      "outputs": []
    },
    {
      "cell_type": "code",
      "source": [],
      "metadata": {
        "id": "fO-8cC4hYbVz"
      },
      "execution_count": null,
      "outputs": []
    }
  ]
}